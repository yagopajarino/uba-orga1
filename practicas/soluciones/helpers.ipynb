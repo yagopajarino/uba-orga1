{
 "cells": [
  {
   "cell_type": "code",
   "execution_count": 2,
   "metadata": {},
   "outputs": [],
   "source": [
    "def change_base(f, t, n):\n",
    "    decimal = get_decimal(f, n)\n",
    "    return metodo_del_cociente(decimal, t)"
   ]
  },
  {
   "cell_type": "code",
   "execution_count": 3,
   "metadata": {},
   "outputs": [],
   "source": [
    "def get_decimal(f, n):\n",
    "    string = str(n)\n",
    "    res = 0\n",
    "    for i in range(len(string)):\n",
    "        power = len(string) - i - 1\n",
    "        digit = string[i]\n",
    "        res += int(digit) * (f ** power)\n",
    "    return res"
   ]
  },
  {
   "cell_type": "code",
   "execution_count": 4,
   "metadata": {},
   "outputs": [],
   "source": [
    "def metodo_del_cociente(d, t):\n",
    "    if d < t:\n",
    "        return str(d)\n",
    "    else:\n",
    "        return metodo_del_cociente(d // t, t) + str(d % t)"
   ]
  },
  {
   "cell_type": "code",
   "execution_count": 5,
   "metadata": {},
   "outputs": [
    {
     "name": "stdout",
     "output_type": "stream",
     "text": [
      "100001\n",
      "1100100\n",
      "1111111111\n"
     ]
    }
   ],
   "source": [
    "print(change_base(10, 2, 33))\n",
    "print(change_base(10,2,100))\n",
    "print(change_base(10,2,1023))"
   ]
  },
  {
   "cell_type": "code",
   "execution_count": 6,
   "metadata": {},
   "outputs": [
    {
     "name": "stdout",
     "output_type": "stream",
     "text": [
      "1020\n",
      "10201\n",
      "1101220\n"
     ]
    }
   ],
   "source": [
    "print(change_base(10,3,33))\n",
    "print(change_base(10,3,100))\n",
    "print(change_base(10,3,1023))"
   ]
  },
  {
   "cell_type": "code",
   "execution_count": 7,
   "metadata": {},
   "outputs": [
    {
     "name": "stdout",
     "output_type": "stream",
     "text": [
      "113\n",
      "400\n",
      "13043\n"
     ]
    }
   ],
   "source": [
    "print(change_base(10,5,33))\n",
    "print(change_base(10,5,100))\n",
    "print(change_base(10,5,1023))"
   ]
  },
  {
   "cell_type": "code",
   "execution_count": 9,
   "metadata": {},
   "outputs": [
    {
     "name": "stdout",
     "output_type": "stream",
     "text": [
      "15\n",
      "40\n",
      "156\n"
     ]
    }
   ],
   "source": [
    "print(change_base(2,10,1111))\n",
    "print(change_base(3,10,1111))\n",
    "print(change_base(5,10,1111))"
   ]
  },
  {
   "cell_type": "code",
   "execution_count": 14,
   "metadata": {},
   "outputs": [
    {
     "data": {
      "text/plain": [
       "'1754550147'"
      ]
     },
     "execution_count": 14,
     "metadata": {},
     "output_type": "execute_result"
    }
   ],
   "source": [
    "change_base(2, 8, 1111101100101101000001100111)"
   ]
  },
  {
   "cell_type": "code",
   "execution_count": null,
   "metadata": {},
   "outputs": [],
   "source": []
  }
 ],
 "metadata": {
  "kernelspec": {
   "display_name": "Python 3",
   "language": "python",
   "name": "python3"
  },
  "language_info": {
   "codemirror_mode": {
    "name": "ipython",
    "version": 3
   },
   "file_extension": ".py",
   "mimetype": "text/x-python",
   "name": "python",
   "nbconvert_exporter": "python",
   "pygments_lexer": "ipython3",
   "version": "3.9.6"
  },
  "orig_nbformat": 4,
  "vscode": {
   "interpreter": {
    "hash": "aee8b7b246df8f9039afb4144a1f6fd8d2ca17a180786b69acc140d282b71a49"
   }
  }
 },
 "nbformat": 4,
 "nbformat_minor": 2
}
